{
 "cells": [
  {
   "cell_type": "markdown",
   "id": "385d2ca9",
   "metadata": {},
   "source": [
    "# Search matched sum 리포트 과제"
   ]
  },
  {
   "cell_type": "markdown",
   "id": "9d1853d1",
   "metadata": {},
   "source": [
    "## 201811958 손휘준"
   ]
  },
  {
   "cell_type": "markdown",
   "id": "cff481f7",
   "metadata": {},
   "source": [
    "### bubblesort 원리를 이용한 search_matched_sum_bubbleSort 함수구현 (bubblesort의 Time complexity : n^2)"
   ]
  },
  {
   "cell_type": "code",
   "execution_count": 2,
   "id": "e7889469",
   "metadata": {},
   "outputs": [],
   "source": [
    "def search_matched_sum_bubbleSort(arr : list, target : int):\n",
    "    new_arr=[] # new_arr을 만든이유는 소팅하기전 기존배열의 인덱스정보도 함께 저장하기 위함입니다.\n",
    "    for i,v in enumerate(arr):\n",
    "        new_arr.append((i,v)) # new_arr에는 리스트내의 튜플형태로 (인덱스정보, 값)이 들어가게 됩니다.\n",
    "    arr = bubbleSort(new_arr) \n",
    "    min_index=[] # 타겟에 대한 요소들의 인덱스를 모두 나타내기위해 리스트형태로 만들어 append를 사용할 예정입니다.\n",
    "    for idx1, d1 in enumerate(arr): # search 함수자체의 time complexity는 이중 for문을 거치기때문에 n^2입니다.\n",
    "        for idx2, d2 in enumerate(arr[idx1:], idx1): #enumerate 함수를 통해 idx1부터 start하여 그 후의 값을 봅니다.\n",
    "            if d1[1]+d2[1] == target: # d1과 d2는 (sort하기전 배열에서 인덱스정보, 해당 값)을 가지고 있습니다.\n",
    "                if d1[1]==d2[1]: # 예를 들어 target이 6인경우 3+3=6으로 3의 인덱스가 두번표시될수 있기때문에 서로 다른 두가지 요소들에 대해서는 표시하지않도록 처리해줍니다.\n",
    "                    pass\n",
    "                else:\n",
    "                    min_index.append((d1[0],d2[0]))\n",
    "    return \"target={}\".format(target), min_index\n",
    "\n",
    "def bubbleSort(new_arr):  # 기존의 버블소트와 다르게 입력값인 new_arr은 리스트내에 튜플이 존재하는 형태입니다. \n",
    "    n = len(new_arr)\n",
    "    for i in range(n): # bubblesort 함수만 본다면 time complexity는 이중 for문을 거치기때문에 n^2입니다.\n",
    "        for j in range(0, n-i-1):\n",
    "            if new_arr[j][1] > new_arr[j+1][1] : # new_arr 리스트 내의 튜플에 두번째 요소가 값을 나타내므로 [1]을 사용했습니다.\n",
    "                new_arr[j], new_arr[j+1] = new_arr[j+1], new_arr[j]\n",
    "    return new_arr\n"
   ]
  },
  {
   "cell_type": "markdown",
   "id": "ee195fd5",
   "metadata": {},
   "source": [
    "### search_matched_sum_bubbleSort 함수 테스트"
   ]
  },
  {
   "cell_type": "code",
   "execution_count": 3,
   "id": "a80a8e4e",
   "metadata": {},
   "outputs": [
    {
     "name": "stdout",
     "output_type": "stream",
     "text": [
      "('target=11', [(9, 0), (8, 1), (7, 2), (6, 3), (5, 4)])\n"
     ]
    }
   ],
   "source": [
    "arr = [10,9,8,7,6,5,4,3,2,1]\n",
    "result = search_matched_sum_bubbleSort(arr,11) \n",
    "print(result) # 11을 타겟으로 한다면 값 (1,10), (2,9) (3,8), (4,7), (5,6)에 대한 인덱스쌍이 5개가 나올것입니다."
   ]
  },
  {
   "cell_type": "markdown",
   "id": "ab02757f",
   "metadata": {},
   "source": [
    "### quicksort 원리를 이용한 search_matched_sum_quickSort 함수구현 (quicksort의 Time complexity : nlog(n))"
   ]
  },
  {
   "cell_type": "code",
   "execution_count": 4,
   "id": "e5491874",
   "metadata": {},
   "outputs": [],
   "source": [
    "def search_matched_sum_quickSort(arr : list, target : int, low, high): # 위의 버블소트를 이용한 함수와 같은원리로 작성했습니다.\n",
    "    new_arr=[]\n",
    "    for i,v in enumerate(arr):\n",
    "        new_arr.append((i,v))\n",
    "    arr = quickSort(new_arr, low, high) \n",
    "    min_index=[]\n",
    "    for idx1, d1 in enumerate(arr): # search 함수자체의 time complexity는 이중 for문을 거치기때문에 n^2입니다.\n",
    "        for idx2, d2 in enumerate(arr[idx1:], idx1): \n",
    "            if d1[1]+d2[1] == target: \n",
    "                if d1[1]==d2[1]: \n",
    "                    pass\n",
    "                else:\n",
    "                    min_index.append((d1[0],d2[0]))\n",
    "    return \"target={}\".format(target), min_index\n",
    "\n",
    "def partition(new_arr, low, high):\n",
    "    i = (low-1)        \n",
    "    pivot = new_arr[high][1]  \n",
    "\n",
    "    for j in range(low, high):\n",
    "        if new_arr[j][1] <= pivot:\n",
    "\n",
    "            i = i+1\n",
    "            new_arr[i], new_arr[j] = new_arr[j], new_arr[i]\n",
    "\n",
    "    new_arr[i+1], new_arr[high] = new_arr[high], new_arr[i+1]\n",
    "    return (i+1)\n",
    "\n",
    "def quickSort(new_arr, low, high):\n",
    "    if len(new_arr) == 1: # quicksort 함수만 본다면 time complexity는 pivot을 기준으로 분할하며 진행하기때문에 nlog(n)입니다.\n",
    "        return new_arr\n",
    "    if low < high:\n",
    "        pi = partition(new_arr, low, high)\n",
    "\n",
    "        quickSort(new_arr, low, pi-1)\n",
    "        quickSort(new_arr, pi+1, high)\n",
    "    return new_arr\n"
   ]
  },
  {
   "cell_type": "markdown",
   "id": "f799c9fd",
   "metadata": {},
   "source": [
    "### search_matched_sum_quickSort 함수 테스트"
   ]
  },
  {
   "cell_type": "code",
   "execution_count": 5,
   "id": "59d50ab7",
   "metadata": {},
   "outputs": [
    {
     "name": "stdout",
     "output_type": "stream",
     "text": [
      "('target=11', [(9, 0), (8, 1), (7, 2), (6, 3), (5, 4)])\n"
     ]
    }
   ],
   "source": [
    "arr = [10,9,8,7,6,5,4,3,2,1]\n",
    "result = search_matched_sum_quickSort(arr,11,0,9) \n",
    "print(result) # 11을 타겟으로 한다면 값 (1,10), (2,9) (3,8), (4,7), (5,6)에 대한 인덱스쌍이 5개가 나올것입니다."
   ]
  },
  {
   "cell_type": "markdown",
   "id": "1ce6c35c",
   "metadata": {},
   "source": [
    "## ㅁ가설수립과 코드설명ㅁ"
   ]
  },
  {
   "cell_type": "markdown",
   "id": "8c43eb7e",
   "metadata": {},
   "source": [
    "### search_matched_sum_bubbleSort, search_matched_sum_quickSort 두가지의 코드를 작성했습니다. 과제에서 요구하는 바는 배열에서 요소간의 덧셈을 통해 target과 같아지는 두 요소가 있다면 해당 요소들의 기존 배열의 인덱스를 쌍으로 도출하는 것이었습니다. 당연히 인덱스 쌍이 여러가지로 나올 수 있기 때문에 search를 하는 함수에서 이중 for문과 enurate함수를 통해 모든 쌍을 잡아낼 수 있도록 설계하였습니다. 그리고 기존의 배열의 인덱스 정보도 포함하여야 하기 때문에 기존의 인덱스정보와 값을 튜플형태로 저장하는 새로운 배열을 만들고 이를 sort하는 과정을 거쳤습니다. 두 search하는 함수 모두 이중 for문을 사용하였기 때문에 전체적인 time complexity는 N^2으로 볼 수 있지만 저는 search 하는 과정에서 n^2의 time complexity를 가지는 bubblesort와 nlog(n)의 time complexity를 가지는 quicksort를 통해 먼저 소팅을 하는 과정을 거쳐가기때문에 이 둘의 시간비교를 통해 n^2과 nlog(n)의 유의미한 차이를 얻을 수 있겠다고   생각했습니다.\n",
    "\n",
    "### 따라서, 버블소트(n^2)를 이용한 search_matched_sum_bubbleSort이 퀵소트(nlog(n))를 이용한  search_matched_sum_quickSort보다 시간이 오래걸릴것이며, 배열의 개수가 증가한다면 그 시간차이가 더욱 많이날 것이라고 가설을 세웠습니다. \n"
   ]
  },
  {
   "cell_type": "markdown",
   "id": "8902a91e",
   "metadata": {},
   "source": [
    "### 1. 배열의 개수가 10, target이 10일때 시간을 측정"
   ]
  },
  {
   "cell_type": "code",
   "execution_count": 16,
   "id": "bde4aab5",
   "metadata": {},
   "outputs": [
    {
     "name": "stdout",
     "output_type": "stream",
     "text": [
      "('target=10', [(8, 4)])\n",
      "0.17695209999999406\n",
      "61.4 µs ± 5.87 µs per loop (mean ± std. dev. of 7 runs, 10,000 loops each)\n"
     ]
    }
   ],
   "source": [
    "import random\n",
    "import timeit\n",
    "code='''\n",
    "def test_func():\n",
    "    n=10\n",
    "    target=10\n",
    "    random_arr = random.sample(range(1,n*2),n) # 1부터 n*2의 범위에서 무작위 숫자 n개를 추출하여 random_arr로 설정했습니다.\n",
    "    result1 = search_matched_sum_bubbleSort(random_arr,target)\n",
    "    return result1'''\n",
    "\n",
    "def test_func():\n",
    "    n=10\n",
    "    target=10\n",
    "    random_arr = random.sample(range(1,n*2),n)\n",
    "    result1 = search_matched_sum_bubbleSort(random_arr,target)\n",
    "    return result1\n",
    "\n",
    "print(test_func())\n",
    "print(timeit.timeit(stmt=code))\n",
    "%timeit test_func()"
   ]
  },
  {
   "cell_type": "code",
   "execution_count": 17,
   "id": "00d2563d",
   "metadata": {},
   "outputs": [
    {
     "name": "stdout",
     "output_type": "stream",
     "text": [
      "('target=10', [(3, 1)])\n",
      "0.12228099999998676\n",
      "55.8 µs ± 9.94 µs per loop (mean ± std. dev. of 7 runs, 10,000 loops each)\n"
     ]
    }
   ],
   "source": [
    "import random\n",
    "import timeit\n",
    "code='''\n",
    "def test_func():\n",
    "    n=10\n",
    "    target=10\n",
    "    random_arr = random.sample(range(1,n*2),n)\n",
    "    result2 = search_matched_sum_quickSort(random_arr, target, 0, n-1)\n",
    "    return result2'''\n",
    "\n",
    "def test_func():\n",
    "    n=10\n",
    "    target=10\n",
    "    random_arr = random.sample(range(1,n*2),n)\n",
    "    result2 = search_matched_sum_quickSort(random_arr, target, 0, n-1)\n",
    "    return result2\n",
    "\n",
    "print(test_func())\n",
    "print(timeit.timeit(stmt=code))\n",
    "%timeit test_func()"
   ]
  },
  {
   "cell_type": "markdown",
   "id": "576164c7",
   "metadata": {},
   "source": [
    "### 2. 배열의 개수가 1000, target이 10일때 시간을 측정"
   ]
  },
  {
   "cell_type": "code",
   "execution_count": 18,
   "id": "968242ad",
   "metadata": {},
   "outputs": [
    {
     "name": "stdout",
     "output_type": "stream",
     "text": [
      "('target=10', [])\n",
      "0.09844480000003841\n",
      "418 ms ± 142 ms per loop (mean ± std. dev. of 7 runs, 1 loop each)\n"
     ]
    }
   ],
   "source": [
    "import random\n",
    "import timeit\n",
    "code='''\n",
    "def test_func():\n",
    "    n=1000\n",
    "    target=10\n",
    "    random_arr = random.sample(range(1,n*2),n)\n",
    "    result1 = search_matched_sum_bubbleSort(random_arr,target)\n",
    "    return result1'''\n",
    "\n",
    "def test_func():\n",
    "    n=1000\n",
    "    target=10\n",
    "    random_arr = random.sample(range(1,n*2),n)\n",
    "    result1 = search_matched_sum_bubbleSort(random_arr,target)\n",
    "    return result1\n",
    "\n",
    "print(test_func())\n",
    "print(timeit.timeit(stmt=code))\n",
    "%timeit test_func()"
   ]
  },
  {
   "cell_type": "code",
   "execution_count": 19,
   "id": "4190f953",
   "metadata": {},
   "outputs": [
    {
     "name": "stdout",
     "output_type": "stream",
     "text": [
      "('target=10', [(159, 965), (13, 9)])\n",
      "0.13661600000000362\n",
      "130 ms ± 17.3 ms per loop (mean ± std. dev. of 7 runs, 1 loop each)\n"
     ]
    }
   ],
   "source": [
    "import random\n",
    "import timeit\n",
    "code='''\n",
    "def test_func():\n",
    "    n=1000\n",
    "    target=10\n",
    "    random_arr = random.sample(range(1,n*2),n)\n",
    "    result2 = search_matched_sum_quickSort(random_arr, target, 0, n-1)\n",
    "    return result2'''\n",
    "\n",
    "def test_func():\n",
    "    n=1000\n",
    "    target=10\n",
    "    random_arr = random.sample(range(1,n*2),n)\n",
    "    result2 = search_matched_sum_quickSort(random_arr, target, 0, n-1)\n",
    "    return result2\n",
    "\n",
    "print(test_func())\n",
    "print(timeit.timeit(stmt=code))\n",
    "%timeit test_func()"
   ]
  },
  {
   "cell_type": "markdown",
   "id": "df1fc32e",
   "metadata": {},
   "source": [
    "### 3. 배열의 개수가 1000, target이 1000일때 시간을 측정"
   ]
  },
  {
   "cell_type": "code",
   "execution_count": 22,
   "id": "bfb01183",
   "metadata": {},
   "outputs": [
    {
     "name": "stdout",
     "output_type": "stream",
     "text": [
      "('target=1000', [(98, 752), (457, 750), (863, 699), (614, 199), (728, 229), (318, 877), (352, 495), (484, 907), (294, 329), (854, 572), (751, 113), (194, 924), (231, 801), (313, 62), (79, 516), (667, 664), (935, 10), (59, 710), (445, 449), (833, 823), (497, 103), (981, 189), (78, 717), (323, 125), (496, 527), (253, 308), (646, 980), (394, 334), (85, 293), (626, 619), (978, 239), (292, 545), (720, 830), (104, 408), (675, 454), (99, 778), (124, 548), (111, 467), (76, 919), (155, 941), (837, 235), (686, 431), (515, 977), (240, 762), (320, 60), (12, 532), (291, 918), (895, 149), (621, 868), (40, 300), (997, 274), (268, 171), (203, 139), (925, 679), (384, 382), (735, 596), (819, 848), (773, 612), (733, 568), (433, 356), (188, 4), (94, 326), (783, 141), (815, 659), (370, 267), (915, 17), (666, 800), (217, 200), (771, 348), (402, 1), (902, 345), (485, 479), (210, 561), (701, 577), (341, 72), (643, 820), (144, 928), (644, 173), (110, 423), (177, 119), (999, 218), (377, 856), (68, 791), (711, 959), (438, 93), (137, 512), (191, 600), (550, 271), (88, 622), (538, 729), (372, 391), (172, 284), (669, 143), (168, 693), (956, 280), (871, 130), (618, 486), (302, 251), (410, 976), (474, 64), (565, 185), (459, 930), (398, 843), (954, 552), (375, 455), (567, 602), (473, 96), (411, 763), (388, 247), (869, 441), (876, 290), (743, 897), (54, 14), (681, 631), (182, 968), (632, 69), (593, 95)])\n",
      "0.13641870000003564\n",
      "319 ms ± 109 ms per loop (mean ± std. dev. of 7 runs, 1 loop each)\n"
     ]
    }
   ],
   "source": [
    "import random\n",
    "import timeit\n",
    "code='''\n",
    "def test_func():\n",
    "    n=1000\n",
    "    target=1000\n",
    "    random_arr = random.sample(range(1,n*2),n)\n",
    "    result1 = search_matched_sum_bubbleSort(random_arr,target)\n",
    "    return result1'''\n",
    "\n",
    "def test_func():\n",
    "    n=1000\n",
    "    target=1000\n",
    "    random_arr = random.sample(range(1,n*2),n)\n",
    "    result1 = search_matched_sum_bubbleSort(random_arr,target)\n",
    "    return result1\n",
    "\n",
    "print(test_func())\n",
    "print(timeit.timeit(stmt=code))\n",
    "%timeit test_func()"
   ]
  },
  {
   "cell_type": "code",
   "execution_count": 23,
   "id": "60075f96",
   "metadata": {},
   "outputs": [
    {
     "name": "stdout",
     "output_type": "stream",
     "text": [
      "('target=1000', [(261, 802), (30, 514), (962, 736), (475, 55), (292, 285), (366, 122), (704, 539), (259, 945), (719, 137), (972, 257), (509, 619), (182, 560), (926, 632), (185, 998), (902, 713), (741, 116), (544, 695), (79, 703), (898, 846), (77, 538), (786, 134), (52, 332), (11, 841), (382, 548), (170, 565), (339, 740), (929, 462), (410, 861), (563, 657), (186, 709), (278, 364), (393, 772), (526, 348), (677, 833), (699, 956), (470, 468), (277, 983), (654, 943), (615, 734), (100, 392), (211, 70), (430, 3), (80, 164), (18, 301), (857, 23), (667, 237), (817, 834), (53, 207), (372, 610), (743, 748), (455, 230), (504, 547), (58, 860), (334, 22), (120, 75), (727, 214), (28, 685), (306, 753), (245, 639), (439, 344), (603, 163), (355, 595), (65, 598), (994, 745), (849, 289), (903, 744), (518, 358), (589, 226), (387, 343), (412, 746), (441, 37), (813, 531), (295, 106), (418, 623), (792, 49), (498, 596), (15, 630), (787, 21), (221, 294), (47, 72), (838, 953), (963, 631), (862, 869), (821, 999), (417, 275), (374, 71), (873, 692), (990, 239), (422, 350), (624, 950), (411, 660), (157, 771), (290, 200), (923, 104), (303, 515), (859, 816), (629, 715), (510, 443), (576, 431), (675, 496), (312, 513), (78, 425), (989, 755), (822, 388), (879, 426), (569, 420), (634, 680), (826, 777), (229, 473), (101, 609), (363, 890), (10, 313), (357, 247), (889, 296), (413, 16), (179, 438), (282, 904), (274, 32), (984, 919), (109, 612), (192, 642)])\n",
      "0.11529380000001765\n",
      "124 ms ± 16.8 ms per loop (mean ± std. dev. of 7 runs, 10 loops each)\n"
     ]
    }
   ],
   "source": [
    "import random\n",
    "import timeit\n",
    "code='''\n",
    "def test_func():\n",
    "    n=1000\n",
    "    target=1000\n",
    "    random_arr = random.sample(range(1,n*2),n)\n",
    "    result2 = search_matched_sum_quickSort(random_arr, target, 0, n-1)\n",
    "    return result2'''\n",
    "\n",
    "def test_func():\n",
    "    n=1000\n",
    "    target=1000\n",
    "    random_arr = random.sample(range(1,n*2),n)\n",
    "    result2 = search_matched_sum_quickSort(random_arr, target, 0, n-1)\n",
    "    return result2\n",
    "\n",
    "print(test_func())\n",
    "print(timeit.timeit(stmt=code))\n",
    "%timeit test_func()"
   ]
  },
  {
   "cell_type": "markdown",
   "id": "a4289fd8",
   "metadata": {},
   "source": [
    "## ㅁ결과확인 및 정리ㅁ "
   ]
  },
  {
   "cell_type": "markdown",
   "id": "88fb527a",
   "metadata": {},
   "source": [
    "### 1. 배열의 개수가 10, target이 10일때는 search_matched_sum_bubbleSort는 평균 61.4 µs,  search_matched_sum_quickSort는 평균 55.8 µs로 사실 거의 차이가 나지않지만 quicksort를 이용한 search가 조금 빨랐음을 확인할 수 있습니다. 2. 배열의 개수가 1000, target이 10일때는 search_matched_sum_bubbleSort는 평균 418 ms,  search_matched_sum_quickSort는 평균 130 ms로 배열의 개수가 10일때보다는 확연한 차이가 발생했음을 알 수 있습니다. 3. 배열의 개수가 1000, target이 1000일때는 search_matched_sum_bubbleSort는 319 ms (1 loop each), search_matched_sum_quickSort는 평균 124 ms (10 loops each)로 역시 확연한 차이가 발생하였습니다. 따라서 세웠던 가설도 해당 실험환경내에서는 맞았음을 확인할 수 있습니다.  "
   ]
  },
  {
   "cell_type": "code",
   "execution_count": null,
   "id": "0197dd31",
   "metadata": {},
   "outputs": [],
   "source": []
  }
 ],
 "metadata": {
  "kernelspec": {
   "display_name": "Python 3 (ipykernel)",
   "language": "python",
   "name": "python3"
  },
  "language_info": {
   "codemirror_mode": {
    "name": "ipython",
    "version": 3
   },
   "file_extension": ".py",
   "mimetype": "text/x-python",
   "name": "python",
   "nbconvert_exporter": "python",
   "pygments_lexer": "ipython3",
   "version": "3.9.12"
  },
  "vscode": {
   "interpreter": {
    "hash": "c4d96da4166b6985b491845862e5550c46b053115f0373dc815dc7c714f8671e"
   }
  }
 },
 "nbformat": 4,
 "nbformat_minor": 5
}
